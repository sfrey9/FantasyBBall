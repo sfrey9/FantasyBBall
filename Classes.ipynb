{
 "cells": [
  {
   "cell_type": "code",
   "execution_count": 12,
   "metadata": {},
   "outputs": [
    {
     "name": "stdout",
     "output_type": "stream",
     "text": [
      "\n",
      "\n",
      "\n",
      "\n",
      "\n",
      "\n",
      "\n",
      "\n",
      "\n",
      "\n"
     ]
    }
   ],
   "source": [
    "# This file will contain the classes that we will be using for this project\n",
    "\n",
    "class player(object):\n",
    "    \n",
    "    def __init__(self, bio, stats):\n",
    "        self.bio = bio;\n",
    "        self.stats = stats;\n",
    "        \n",
    "class bio(object):\n",
    "    \n",
    "    def __init__(self, height, weight, age, experience):\n",
    "        self.height = height;\n",
    "        self.weight = weight;\n",
    "        self.age = age;\n",
    "        self.experience = experience;\n",
    "        \n",
    "    def bprint(self):\n",
    "        print('\\nHeight: ', self.height,'\\nWeight: ', self.weight, '\\nAge: ', self.age, '\\nExperience: ', self.experience, '\\n');\n",
    "\n",
    "class stats(object):\n",
    "    \n",
    "    def __init__(self, traditional, advanced, scoring, misc, usage):\n",
    "        self.traditional = traditional;\n",
    "        self.advanced = advanced;\n",
    "        self.scoring = scoring;\n",
    "        self.misc = misc;\n",
    "        self.usage = usage;\n",
    "        \n",
    "    def stprint(self):\n",
    "        for i in self.traditional:\n",
    "            print(i);\n",
    "        print('\\n');\n",
    "        for i in self.advanced:\n",
    "            print(i);\n",
    "        print('\\n');\n",
    "        for i in self.scoring:\n",
    "            print(i);\n",
    "        print('\\n');\n",
    "        for i in self.misc:\n",
    "            print(i);\n",
    "        print('\\n');\n",
    "        for i in self.usage:\n",
    "            print(i);\n",
    "        print('\\n');\n",
    "        \n",
    "\n",
    "StevenAdams = player([],[]);\n",
    "\n",
    "StevenAdams.bio = bio(84,230,23,3);\n",
    "StevenAdams.stats = stats([],[],[],[],[]);\n",
    "\n",
    "StevenAdams.stats.stprint();\n",
    "    \n",
    "        \n",
    "\n",
    "        "
   ]
  }
 ],
 "metadata": {
  "anaconda-cloud": {},
  "kernelspec": {
   "display_name": "Python [conda root]",
   "language": "python",
   "name": "conda-root-py"
  },
  "language_info": {
   "codemirror_mode": {
    "name": "ipython",
    "version": 3
   },
   "file_extension": ".py",
   "mimetype": "text/x-python",
   "name": "python",
   "nbconvert_exporter": "python",
   "pygments_lexer": "ipython3",
   "version": "3.5.2"
  }
 },
 "nbformat": 4,
 "nbformat_minor": 1
}
