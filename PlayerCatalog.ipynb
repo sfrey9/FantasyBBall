{
 "cells": [
  {
   "cell_type": "code",
   "execution_count": 25,
   "metadata": {
    "collapsed": true
   },
   "outputs": [],
   "source": [
    "# This file retrieves the player list and corresponding player id's from the NBA website player list. \n",
    "# It will output the data in json format as a file named PlayerCatalog.\n",
    "\n",
    "from bs4 import BeautifulSoup\n",
    "from selenium import webdriver\n",
    "import json\n",
    "from six.moves import cPickle as pickle\n",
    "\n",
    "driver = webdriver.Chrome('/Users/Shardul/anaconda/chromedriver');\n",
    "driver.get('http://stats.nba.com/players/list/');\n",
    "\n",
    "html = driver.page_source\n",
    "\n",
    "driver.quit();\n",
    "\n",
    "\n"
   ]
  },
  {
   "cell_type": "code",
   "execution_count": 26,
   "metadata": {
    "collapsed": true
   },
   "outputs": [],
   "source": [
    "soup = BeautifulSoup(html, 'html.parser');\n",
    "\n",
    "unrefined = soup.find_all('a');\n",
    "\n",
    "jsonstring = '';\n",
    "\n",
    "for i in unrefined:\n",
    "    if 'players-list' in str(i):\n",
    "        j = str(i)[47:][:-4]\n",
    "        k = str(j[(j.index('>')+1):])\n",
    "        if ' ' in k:\n",
    "            jsonstring = (jsonstring + '\"' + k[(k.index(' ')+1):]+' '+k[:(k.index(' ')-1)] + '\" : ' + j[:j.index('/')] + ', '); \n",
    "            \n",
    "jsonstring = '{'+jsonstring[30:-2]+'}';\n",
    "\n",
    "playerID = json.loads(jsonstring);\n",
    "\n",
    "# playerID is a dictionary that takes a player name as input and outputs their NBA player ID.\n",
    "\n",
    "\n"
   ]
  },
  {
   "cell_type": "code",
   "execution_count": null,
   "metadata": {
    "collapsed": true
   },
   "outputs": [],
   "source": [
    "f = open('playerID.pickle', 'wb');\n",
    "pickle.dump(playerID, f, pickle.HIGHEST_PROTOCOL);\n"
   ]
  }
 ],
 "metadata": {
  "anaconda-cloud": {},
  "kernelspec": {
   "display_name": "Python [conda root]",
   "language": "python",
   "name": "conda-root-py"
  },
  "language_info": {
   "codemirror_mode": {
    "name": "ipython",
    "version": 3
   },
   "file_extension": ".py",
   "mimetype": "text/x-python",
   "name": "python",
   "nbconvert_exporter": "python",
   "pygments_lexer": "ipython3",
   "version": "3.5.2"
  }
 },
 "nbformat": 4,
 "nbformat_minor": 1
}
